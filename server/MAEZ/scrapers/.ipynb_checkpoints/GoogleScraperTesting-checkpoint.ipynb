{
 "cells": [
  {
   "cell_type": "code",
   "execution_count": 23,
   "metadata": {},
   "outputs": [
    {
     "name": "stdout",
     "output_type": "stream",
     "text": [
      "The autoreload extension is already loaded. To reload it, use:\n",
      "  %reload_ext autoreload\n"
     ]
    }
   ],
   "source": [
    "%load_ext autoreload\n",
    "%autoreload 2"
   ]
  },
  {
   "cell_type": "code",
   "execution_count": 24,
   "metadata": {},
   "outputs": [],
   "source": [
    "\n",
    "from LinkedIn import *\n",
    "from BaseScraper import *\n",
    "from Google import *\n",
    "import time\n",
    "from selenium.webdriver.common.keys import Keys\n",
    "from multiprocessing import Queue, Process, cpu_count\n"
   ]
  },
  {
   "cell_type": "code",
   "execution_count": null,
   "metadata": {},
   "outputs": [],
   "source": [
    "g = GoogleScraper()"
   ]
  },
  {
   "cell_type": "code",
   "execution_count": null,
   "metadata": {},
   "outputs": [],
   "source": [
    "g.navigate(\"http://google.com\")\n",
    "user = \"Moin Nadeem\""
   ]
  },
  {
   "cell_type": "code",
   "execution_count": null,
   "metadata": {},
   "outputs": [],
   "source": [
    "input_elem = g.driver.find_elements_by_tag_name(\"input\")"
   ]
  },
  {
   "cell_type": "code",
   "execution_count": null,
   "metadata": {},
   "outputs": [],
   "source": [
    "search_elem = None\n",
    "for elem in input_elem:\n",
    "    if elem.get_attribute(\"title\") == \"Search\":\n",
    "        search_elem = elem"
   ]
  },
  {
   "cell_type": "code",
   "execution_count": null,
   "metadata": {},
   "outputs": [],
   "source": [
    "search_elem.send_keys(user + \" \")\n",
    "time.sleep(0.5)\n",
    "search_elem.send_keys(Keys.DOWN)\n",
    "time.sleep(0.5)\n",
    "search_elem.send_keys(Keys.UP)\n",
    "time.sleep(0.25)\n",
    "search_elem.send_keys(Keys.ENTER)"
   ]
  },
  {
   "cell_type": "code",
   "execution_count": null,
   "metadata": {},
   "outputs": [],
   "source": [
    "suggestions = g.driver.find_elements_by_class_name(\"sbqs_c\")"
   ]
  },
  {
   "cell_type": "code",
   "execution_count": null,
   "metadata": {},
   "outputs": [],
   "source": [
    "suggestion_text = []\n",
    "for suggestion in suggestions:\n",
    "    suggestion_text.append(suggestion.text.replace(user.lower(), \"\"))\n",
    "print(suggestion_text)"
   ]
  },
  {
   "cell_type": "code",
   "execution_count": null,
   "metadata": {},
   "outputs": [],
   "source": [
    "results = dict()\n",
    "urls_to_explore = dict()"
   ]
  },
  {
   "cell_type": "code",
   "execution_count": null,
   "metadata": {},
   "outputs": [],
   "source": [
    "urls = [\"linkedin\", \"facebook\",\"arxiv\", \"twitter\", \"github\", \"devpost\", \"kaggle\", \"medium\"]\n",
    "domains = [\".com\", \".me\"]\n",
    "def search_page():\n",
    "    global urls\n",
    "    global urls_to_explore\n",
    "    \n",
    "    found_items = False\n",
    "    for r in g.driver.find_elements_by_xpath(\"//div[@class='rc']//h3//a\"):\n",
    "        for url in urls:\n",
    "            if url in r.text.lower():\n",
    "                found_items = True\n",
    "                if url in urls_to_explore:\n",
    "                    urls_to_explore[url].add(r.get_attribute(\"href\"))\n",
    "                else:\n",
    "                    urls_to_explore[url] = set()\n",
    "                    urls_to_explore[url].add(r.get_attribute(\"href\"))\n",
    "                print(\"Found a {}\".format(url))\n",
    "                print(\"URL: {}\".format(r.get_attribute(\"href\")))\n",
    "        for domain in domains:\n",
    "            if (user.replace(\" \", \"\") + domain).lower() in r.get_attribute(\"href\").lower():\n",
    "                if \"personal\" in urls_to_explore:\n",
    "                    urls_to_explore[\"personal\"].add(r.get_attribute(\"href\"))\n",
    "                else:\n",
    "                    urls_to_explore[\"personal\"] = set()\n",
    "                    urls_to_explore[\"personal\"].add(r.get_attribute(\"href\"))\n",
    "                print(\"Found a personal\")\n",
    "                print(\"URL: {}\".format(r.get_attribute(\"href\")))\n",
    "    return found_items\n",
    "\n",
    "def next_page():\n",
    "    next_button = g.driver.find_elements_by_id(\"pnnext\")\n",
    "    if len(next_button) == 1:\n",
    "        next_button[0].click()\n",
    "        return True\n",
    "    return False"
   ]
  },
  {
   "cell_type": "code",
   "execution_count": null,
   "metadata": {},
   "outputs": [],
   "source": [
    "while search_page():\n",
    "    if next_page():\n",
    "        continue\n",
    "    else:\n",
    "        print(\"Couldn't find next button\")\n",
    "        break\n",
    "g.navigate(\"http://google.com\")\n",
    "input_elem = g.driver.find_elements_by_tag_name(\"input\")\n",
    "search_elem = None\n",
    "for elem in input_elem:\n",
    "    if elem.get_attribute(\"title\") == \"Search\":\n",
    "        search_elem = elem\n",
    "search_elem.send_keys(user + \" filetype:pdf\")\n",
    "time.sleep(0.25)\n",
    "search_elem.send_keys(Keys.ENTER)\n",
    "for r in g.driver.find_elements_by_xpath(\"//div[@class='rc']//h3//a\"):\n",
    "    if \"resume\" in r.text.lower():\n",
    "        if \"resume\" in urls_to_explore:\n",
    "                urls_to_explore[\"resume\"].add(r.get_attribute(\"href\"))\n",
    "        else:\n",
    "            urls_to_explore[\"resume\"] = set()\n",
    "            urls_to_explore[\"resume\"].add(r.get_attribute(\"href\"))"
   ]
  },
  {
   "cell_type": "code",
   "execution_count": null,
   "metadata": {},
   "outputs": [],
   "source": [
    "print(urls_to_explore)"
   ]
  },
  {
   "cell_type": "code",
   "execution_count": null,
   "metadata": {},
   "outputs": [],
   "source": [
    "def deployLinkedIn(urls):\n",
    "    linkedInScraper = LinkedInScraper()\n",
    "    linkedInScraper.sign_in()\n",
    "    for url in urls:\n",
    "        linkedInScraper.navigate(url)\n",
    "        linkedIn = linkedInScraper.extract_profile()\n",
    "        print(linkedIn)        \n",
    "def deployBaseScraper(urls):\n",
    "    baseScraper = BaseScraper()\n",
    "    for url in urls:\n",
    "        baseScraper.navigate(url)\n",
    "        \n",
    "def deployScraper(key, urls):\n",
    "    if key == \"linkedin\":\n",
    "        deployLinkedIn(urls)\n",
    "    else:\n",
    "        deployBaseScraper(urls)"
   ]
  },
  {
   "cell_type": "code",
   "execution_count": null,
   "metadata": {},
   "outputs": [],
   "source": [
    "url_list = list(urls_to_explore.items())\n",
    "queue = Queue()\n",
    "def worker(queue):\n",
    "    while not queue.empty():\n",
    "        task = queue.get()\n",
    "        deployScraper(task[0], task[1])\n",
    "        \n",
    "for task in url_list:\n",
    "    queue.put(task)\n",
    "num_processes = min(cpu_count() - 1, len(url_list))\n",
    "print(num_processes)\n",
    "processes = []\n",
    "for i in range(num_processes):\n",
    "    process = Process(target=worker, args=(queue,))\n",
    "    process.start()\n",
    "    processes.append(process)\n",
    "for process in processes:\n",
    "    process.join()"
   ]
  },
  {
   "cell_type": "code",
   "execution_count": null,
   "metadata": {},
   "outputs": [],
   "source": []
  },
  {
   "cell_type": "code",
   "execution_count": 25,
   "metadata": {},
   "outputs": [],
   "source": [
    "g = GoogleScraper()\n"
   ]
  },
  {
   "cell_type": "code",
   "execution_count": 28,
   "metadata": {},
   "outputs": [
    {
     "name": "stdout",
     "output_type": "stream",
     "text": [
      "[]\n",
      "Found a personal\n",
      "URL: http://moinnadeem.com/\n",
      "Found a linkedin\n",
      "URL: https://www.linkedin.com/in/moin-nadeem-712261114\n",
      "Found a twitter\n",
      "URL: https://twitter.com/moinnadeem?lang=en\n",
      "Found a medium\n",
      "URL: https://medium.com/@moinnadeem\n",
      "Found a github\n",
      "URL: https://github.com/moinnadeem\n",
      "Found a facebook\n",
      "URL: https://www.facebook.com/public/Moin-Nadeem\n",
      "Found a kaggle\n",
      "URL: https://www.kaggle.com/mnadeem\n",
      "{'personal': {'http://moinnadeem.com/'}, 'linkedin': {'https://www.linkedin.com/in/moin-nadeem-712261114'}, 'twitter': {'https://twitter.com/moinnadeem?lang=en'}, 'medium': {'https://medium.com/@moinnadeem'}, 'github': {'https://github.com/moinnadeem'}, 'facebook': {'https://www.facebook.com/public/Moin-Nadeem'}, 'kaggle': {'https://www.kaggle.com/mnadeem'}}\n",
      "[]\n",
      "Found a personal\n",
      "URL: http://averylamp.me/\n",
      "Found a linkedin\n",
      "URL: https://www.linkedin.com/in/averylamp\n",
      "Found a github\n",
      "URL: https://github.com/Averylamp\n",
      "Found a medium\n",
      "URL: https://medium.com/@averylamp\n",
      "Found a twitter\n",
      "URL: https://twitter.com/averylamp\n",
      "Found a devpost\n",
      "URL: https://devpost.com/averylamp\n",
      "Found a facebook\n",
      "URL: https://www.facebook.com/AveryLampPhotography/\n",
      "{'personal': {'http://averylamp.me/'}, 'linkedin': {'https://www.linkedin.com/in/averylamp'}, 'github': {'https://github.com/Averylamp'}, 'medium': {'https://medium.com/@averylamp'}, 'twitter': {'https://twitter.com/averylamp'}, 'devpost': {'https://devpost.com/averylamp'}, 'facebook': {'https://www.facebook.com/AveryLampPhotography/'}, 'resume': {'http://averylamp.me/Resume.pdf'}}\n",
      "[]\n",
      "Found a linkedin\n",
      "URL: https://www.linkedin.com/in/ethan-weber-0901b4118\n",
      "Found a facebook\n",
      "URL: https://www.facebook.com/public/Ethan-Weber\n",
      "Found a personal\n",
      "URL: http://ethanweber.me/\n",
      "Found a personal\n",
      "URL: http://ethanweber.me/documents/Resume_EthanWeber_Jul_2017.pdf\n",
      "Found a github\n",
      "URL: https://github.com/ethanweber\n",
      "{'linkedin': {'https://www.linkedin.com/in/ethan-weber-0901b4118'}, 'facebook': {'https://www.facebook.com/public/Ethan-Weber'}, 'personal': {'http://ethanweber.me/documents/Resume_EthanWeber_Jul_2017.pdf', 'http://ethanweber.me/'}, 'github': {'https://github.com/ethanweber'}}\n"
     ]
    }
   ],
   "source": [
    "moin = g.scrape_by_name(\"Moin Nadeem\")\n",
    "avery = g.scrape_by_name(\"Avery Lamp\")\n",
    "ethan = g.scrape_by_name(\"Ethan Weber\")"
   ]
  },
  {
   "cell_type": "code",
   "execution_count": 29,
   "metadata": {},
   "outputs": [
    {
     "name": "stdout",
     "output_type": "stream",
     "text": [
      "{'personal': {'http://moinnadeem.com/'}, 'linkedin': {'https://www.linkedin.com/in/moin-nadeem-712261114'}, 'twitter': {'https://twitter.com/moinnadeem?lang=en'}, 'medium': {'https://medium.com/@moinnadeem'}, 'github': {'https://github.com/moinnadeem'}, 'facebook': {'https://www.facebook.com/public/Moin-Nadeem'}, 'kaggle': {'https://www.kaggle.com/mnadeem'}}\n"
     ]
    }
   ],
   "source": []
  },
  {
   "cell_type": "code",
   "execution_count": null,
   "metadata": {},
   "outputs": [],
   "source": []
  }
 ],
 "metadata": {
  "kernelspec": {
   "display_name": "Python 3",
   "language": "python",
   "name": "python3"
  },
  "language_info": {
   "codemirror_mode": {
    "name": "ipython",
    "version": 3
   },
   "file_extension": ".py",
   "mimetype": "text/x-python",
   "name": "python",
   "nbconvert_exporter": "python",
   "pygments_lexer": "ipython3",
   "version": "3.7.0"
  }
 },
 "nbformat": 4,
 "nbformat_minor": 2
}
