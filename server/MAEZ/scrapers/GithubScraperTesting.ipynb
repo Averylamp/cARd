{
 "cells": [
  {
   "cell_type": "code",
   "execution_count": 1,
   "metadata": {},
   "outputs": [],
   "source": [
    "from BaseScraper import *\n",
    "import time\n",
    "from selenium.webdriver.common.keys import Keys\n",
    "from multiprocessing import Queue, Process, cpu_count"
   ]
  },
  {
   "cell_type": "code",
   "execution_count": 2,
   "metadata": {},
   "outputs": [],
   "source": [
    "g = BaseScraper()"
   ]
  },
  {
   "cell_type": "code",
   "execution_count": 4,
   "metadata": {},
   "outputs": [],
   "source": [
    "user = \"averylamp\"\n",
    "g.navigate(\"http://github.com/{}\".format(user))"
   ]
  },
  {
   "cell_type": "code",
   "execution_count": 12,
   "metadata": {},
   "outputs": [
    {
     "name": "stdout",
     "output_type": "stream",
     "text": [
      "656\n"
     ]
    }
   ],
   "source": [
    "last_year_contribution_number = 0\n",
    "last_year_contributions_item = g.driver.find_elements_by_xpath(\"//div[@class='js-yearly-contributions']//h2\")\n",
    "if len(last_year_contributions_item) > 0:\n",
    "    last_year_contributions_text = last_year_contributions_item[0].text.split(\" \")\n",
    "    if len(last_year_contributions_text) > 0:\n",
    "        last_year_contributions_number = last_year_contributions_text[0]\n",
    "print(last_year_contributions_number)"
   ]
  },
  {
   "cell_type": "code",
   "execution_count": 8,
   "metadata": {},
   "outputs": [
    {
     "data": {
      "text/plain": [
       "[<selenium.webdriver.remote.webelement.WebElement (session=\"6366a54914bf84d2ae397f35575aa6c4\", element=\"0.2578696346773941-1\")>]"
      ]
     },
     "execution_count": 8,
     "metadata": {},
     "output_type": "execute_result"
    }
   ],
   "source": []
  },
  {
   "cell_type": "code",
   "execution_count": null,
   "metadata": {},
   "outputs": [],
   "source": []
  }
 ],
 "metadata": {
  "kernelspec": {
   "display_name": "Python 3",
   "language": "python",
   "name": "python3"
  },
  "language_info": {
   "codemirror_mode": {
    "name": "ipython",
    "version": 3
   },
   "file_extension": ".py",
   "mimetype": "text/x-python",
   "name": "python",
   "nbconvert_exporter": "python",
   "pygments_lexer": "ipython3",
   "version": "3.6.5"
  }
 },
 "nbformat": 4,
 "nbformat_minor": 2
}
